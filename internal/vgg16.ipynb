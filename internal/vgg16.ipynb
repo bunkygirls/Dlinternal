{
 "cells": [
  {
   "cell_type": "code",
   "execution_count": 29,
   "metadata": {},
   "outputs": [],
   "source": [
    "from keras.applications import VGG16\n",
    "from keras.models import Sequential\n",
    "from keras.layers import Dense, Flatten\n",
    "from keras.optimizers import Adam\n",
    "from keras.datasets import cifar10\n",
    "from keras.utils import to_categorical "
   ]
  },
  {
   "cell_type": "code",
   "execution_count": 30,
   "metadata": {},
   "outputs": [],
   "source": [
    "(x_train,y_train),(x_test,y_test)=cifar10.load_data()"
   ]
  },
  {
   "cell_type": "code",
   "execution_count": 31,
   "metadata": {},
   "outputs": [],
   "source": [
    "(x_train,y_train),(x_test,y_test)=(x_train[:800],y_train[:800]),(x_test[:200],y_test[:200])"
   ]
  },
  {
   "cell_type": "code",
   "execution_count": 32,
   "metadata": {},
   "outputs": [],
   "source": [
    "y_test=to_categorical(y_test.flatten())\n",
    "y_train=to_categorical(y_train.flatten())"
   ]
  },
  {
   "cell_type": "code",
   "execution_count": 33,
   "metadata": {},
   "outputs": [],
   "source": [
    "base_model = VGG16(weights='imagenet', include_top=False, input_shape=(32, 32, 3))"
   ]
  },
  {
   "cell_type": "code",
   "execution_count": 34,
   "metadata": {},
   "outputs": [],
   "source": [
    "model = Sequential([\n",
    "    base_model,\n",
    "    Flatten(),\n",
    "    Dense(1024, activation='relu'),\n",
    "    Dense(128, activation='relu'),\n",
    "    Dense(10, activation='softmax')\n",
    "])\n",
    "# model.summary()"
   ]
  },
  {
   "cell_type": "code",
   "execution_count": 35,
   "metadata": {},
   "outputs": [],
   "source": [
    "model.compile(optimizer=Adam(learning_rate=0.001), loss='categorical_crossentropy', metrics=['accuracy'])"
   ]
  },
  {
   "cell_type": "code",
   "execution_count": 36,
   "metadata": {},
   "outputs": [
    {
     "name": "stdout",
     "output_type": "stream",
     "text": [
      "Epoch 1/20\n",
      "13/13 [==============================] - 21s 1s/step - loss: 7.3617 - accuracy: 0.1075 - val_loss: 2.3032 - val_accuracy: 0.1300\n",
      "Epoch 2/20\n",
      "13/13 [==============================] - 18s 1s/step - loss: 2.3276 - accuracy: 0.0825 - val_loss: 2.3052 - val_accuracy: 0.1400\n",
      "Epoch 3/20\n",
      "13/13 [==============================] - 22s 2s/step - loss: 2.3031 - accuracy: 0.0988 - val_loss: 2.3029 - val_accuracy: 0.0900\n",
      "Epoch 4/20\n",
      "13/13 [==============================] - 26s 2s/step - loss: 2.3005 - accuracy: 0.0975 - val_loss: 2.3029 - val_accuracy: 0.1300\n",
      "Epoch 5/20\n",
      "13/13 [==============================] - 24s 2s/step - loss: 2.2998 - accuracy: 0.1050 - val_loss: 2.3030 - val_accuracy: 0.1300\n",
      "Epoch 6/20\n",
      "13/13 [==============================] - 27s 2s/step - loss: 2.2994 - accuracy: 0.0913 - val_loss: 2.3038 - val_accuracy: 0.0900\n",
      "Epoch 7/20\n",
      "13/13 [==============================] - 22s 2s/step - loss: 2.2991 - accuracy: 0.0988 - val_loss: 2.3043 - val_accuracy: 0.1300\n",
      "Epoch 8/20\n",
      "13/13 [==============================] - 24s 2s/step - loss: 2.2988 - accuracy: 0.1112 - val_loss: 2.3043 - val_accuracy: 0.0700\n",
      "Epoch 9/20\n",
      "13/13 [==============================] - 20s 2s/step - loss: 2.2984 - accuracy: 0.1025 - val_loss: 2.3045 - val_accuracy: 0.1050\n",
      "Epoch 10/20\n",
      "13/13 [==============================] - 29s 2s/step - loss: 2.2983 - accuracy: 0.1037 - val_loss: 2.3047 - val_accuracy: 0.0700\n",
      "Epoch 11/20\n",
      "13/13 [==============================] - 21s 2s/step - loss: 2.2982 - accuracy: 0.1037 - val_loss: 2.3044 - val_accuracy: 0.1050\n",
      "Epoch 12/20\n",
      "13/13 [==============================] - 30s 2s/step - loss: 2.2982 - accuracy: 0.1112 - val_loss: 2.3050 - val_accuracy: 0.1050\n",
      "Epoch 13/20\n",
      "13/13 [==============================] - 23s 2s/step - loss: 2.2981 - accuracy: 0.1000 - val_loss: 2.3051 - val_accuracy: 0.1050\n",
      "Epoch 14/20\n",
      "13/13 [==============================] - 21s 2s/step - loss: 2.2981 - accuracy: 0.1112 - val_loss: 2.3049 - val_accuracy: 0.1050\n",
      "Epoch 15/20\n",
      "13/13 [==============================] - 19s 1s/step - loss: 2.2979 - accuracy: 0.1112 - val_loss: 2.3051 - val_accuracy: 0.1050\n",
      "Epoch 16/20\n",
      "13/13 [==============================] - 20s 2s/step - loss: 2.2980 - accuracy: 0.1112 - val_loss: 2.3053 - val_accuracy: 0.1050\n",
      "Epoch 17/20\n",
      "13/13 [==============================] - 19s 1s/step - loss: 2.2981 - accuracy: 0.1112 - val_loss: 2.3052 - val_accuracy: 0.1050\n",
      "Epoch 18/20\n",
      "13/13 [==============================] - 20s 2s/step - loss: 2.2981 - accuracy: 0.1112 - val_loss: 2.3053 - val_accuracy: 0.1050\n",
      "Epoch 19/20\n",
      "13/13 [==============================] - 19s 1s/step - loss: 2.2980 - accuracy: 0.1112 - val_loss: 2.3059 - val_accuracy: 0.1050\n",
      "Epoch 20/20\n",
      "13/13 [==============================] - 19s 1s/step - loss: 2.2979 - accuracy: 0.1037 - val_loss: 2.3056 - val_accuracy: 0.0700\n"
     ]
    },
    {
     "data": {
      "text/plain": [
       "<keras.callbacks.History at 0x19d8f0e6990>"
      ]
     },
     "execution_count": 36,
     "metadata": {},
     "output_type": "execute_result"
    }
   ],
   "source": [
    "#fit\n",
    "model.fit(x_train,y_train,epochs=20,batch_size=64,validation_data=(x_test,y_test))"
   ]
  },
  {
   "cell_type": "code",
   "execution_count": 37,
   "metadata": {},
   "outputs": [
    {
     "name": "stdout",
     "output_type": "stream",
     "text": [
      "1/1 [==============================] - 1s 513ms/step - loss: 2.3056 - accuracy: 0.0700\n",
      "Test Loss: 2.305614709854126\n",
      "Test Accuracy: 0.07000000029802322\n"
     ]
    }
   ],
   "source": [
    "# Evaluate model on test data\n",
    "test_loss, test_accuracy = model.evaluate(x_test,y_test,batch_size=256)\n",
    "print(\"Test Loss:\", test_loss)\n",
    "print(\"Test Accuracy:\", test_accuracy)\n"
   ]
  },
  {
   "cell_type": "code",
   "execution_count": null,
   "metadata": {},
   "outputs": [],
   "source": []
  }
 ],
 "metadata": {
  "kernelspec": {
   "display_name": "Python 3",
   "language": "python",
   "name": "python3"
  },
  "language_info": {
   "codemirror_mode": {
    "name": "ipython",
    "version": 3
   },
   "file_extension": ".py",
   "mimetype": "text/x-python",
   "name": "python",
   "nbconvert_exporter": "python",
   "pygments_lexer": "ipython3",
   "version": "3.11.3"
  }
 },
 "nbformat": 4,
 "nbformat_minor": 2
}
